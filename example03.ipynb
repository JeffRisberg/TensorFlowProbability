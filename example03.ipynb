{
 "cells": [
  {
   "cell_type": "markdown",
   "metadata": {},
   "source": [
    "## Encoder and Decoder networks"
   ]
  },
  {
   "cell_type": "markdown",
   "metadata": {},
   "source": [
    "## 4. Build the encoder and decoder networks\n",
    "* You should now create the encoder and decoder for the variational autoencoder algorithm.\n",
    "* You should design these networks yourself, subject to the following constraints:\n",
    "   * The encoder and decoder networks should be built using the `Sequential` class.\n",
    "   * The encoder and decoder networks should use probabilistic layers where necessary to represent distributions.\n",
    "   * The prior distribution should be a zero-mean, isotropic Gaussian (identity covariance matrix).\n",
    "   * The encoder network should add the KL divergence loss to the model.\n",
    "* Print the model summary for the encoder and decoder networks."
   ]
  },
  {
   "cell_type": "code",
   "execution_count": 2,
   "metadata": {},
   "outputs": [],
   "source": [
    "import math\n",
    "import numpy as np\n",
    "import matplotlib.pyplot as plt\n",
    "import tensorflow as tf\n",
    "import tensorflow_probability as tfp\n",
    "\n",
    "from tensorflow.keras.models import Sequential, Model\n",
    "from tensorflow.keras.layers import Dense, Flatten, Conv2D, UpSampling2D, BatchNormalization, Reshape\n",
    "\n",
    "tfb = tfp.bijectors\n",
    "tfd = tfp.distributions\n",
    "tfpl = tfp.layers\n",
    "\n",
    "%matplotlib inline"
   ]
  },
  {
   "cell_type": "code",
   "execution_count": 3,
   "metadata": {},
   "outputs": [],
   "source": [
    "latent_dim = 50\n",
    "\n",
    "prior = tfd.MultivariateNormalDiag(loc=tf.zeros(latent_dim))"
   ]
  },
  {
   "cell_type": "code",
   "execution_count": 4,
   "metadata": {},
   "outputs": [],
   "source": [
    "def get_kl_regularizer(prior_distribution):\n",
    "    \"\"\"\n",
    "    This function should create an instance of the KLDivergenceRegularizer \n",
    "    according to the above specification. \n",
    "    The function takes the prior_distribution, which should be used to define \n",
    "    the distribution.\n",
    "    Your function should then return the KLDivergenceRegularizer instance.\n",
    "    \"\"\"\n",
    "    return tfpl.KLDivergenceRegularizer(prior_distribution,\n",
    "                                        weight=1.0,\n",
    "                                        use_exact_kl=False,\n",
    "                                        test_points_fn=lambda q: q.sample(3),\n",
    "                                        test_points_reduce_axis=None) "
   ]
  },
  {
   "cell_type": "code",
   "execution_count": 5,
   "metadata": {},
   "outputs": [],
   "source": [
    "kl_regularizer = get_kl_regularizer(prior)"
   ]
  },
  {
   "cell_type": "code",
   "execution_count": 6,
   "metadata": {},
   "outputs": [
    {
     "name": "stdout",
     "output_type": "stream",
     "text": [
      "WARNING:tensorflow:From /usr/local/lib/python3.8/site-packages/tensorflow/python/ops/linalg/linear_operator_lower_triangular.py:159: calling LinearOperator.__init__ (from tensorflow.python.ops.linalg.linear_operator) with graph_parents is deprecated and will be removed in a future version.\n",
      "Instructions for updating:\n",
      "Do not pass `graph_parents`.  They will  no longer be used.\n",
      "Model: \"sequential\"\n",
      "_________________________________________________________________\n",
      "Layer (type)                 Output Shape              Param #   \n",
      "=================================================================\n",
      "conv2d (Conv2D)              (None, 18, 18, 32)        1568      \n",
      "_________________________________________________________________\n",
      "batch_normalization (BatchNo (None, 18, 18, 32)        128       \n",
      "_________________________________________________________________\n",
      "conv2d_1 (Conv2D)            (None, 9, 9, 64)          32832     \n",
      "_________________________________________________________________\n",
      "batch_normalization_1 (Batch (None, 9, 9, 64)          256       \n",
      "_________________________________________________________________\n",
      "conv2d_2 (Conv2D)            (None, 5, 5, 128)         131200    \n",
      "_________________________________________________________________\n",
      "batch_normalization_2 (Batch (None, 5, 5, 128)         512       \n",
      "_________________________________________________________________\n",
      "conv2d_3 (Conv2D)            (None, 3, 3, 256)         524544    \n",
      "_________________________________________________________________\n",
      "batch_normalization_3 (Batch (None, 3, 3, 256)         1024      \n",
      "_________________________________________________________________\n",
      "flatten (Flatten)            (None, 2304)              0         \n",
      "_________________________________________________________________\n",
      "dense (Dense)                (None, 1325)              3054125   \n",
      "_________________________________________________________________\n",
      "multivariate_normal_tri_l (M multiple                  0         \n",
      "=================================================================\n",
      "Total params: 3,746,189\n",
      "Trainable params: 3,745,229\n",
      "Non-trainable params: 960\n",
      "_________________________________________________________________\n"
     ]
    }
   ],
   "source": [
    "event_shape = (36, 36)\n",
    "\n",
    "encoder = Sequential([\n",
    "    Conv2D(filters=32, padding='SAME', kernel_size=(4,4), strides=(2,2), activation='relu', input_shape=(36,36,3)),\n",
    "    BatchNormalization(),\n",
    "    Conv2D(filters=64, padding='SAME', kernel_size=(4,4), strides=(2,2), activation='relu'),\n",
    "    BatchNormalization(),\n",
    "    Conv2D(filters=128, padding='SAME', kernel_size=(4,4), strides=(2,2), activation='relu'),\n",
    "    BatchNormalization(),\n",
    "    Conv2D(filters=256, padding='SAME', kernel_size=(4,4), strides=(2,2), activation='relu'),\n",
    "    BatchNormalization(),\n",
    "    Flatten(),\n",
    "    Dense(tfpl.MultivariateNormalTriL.params_size(latent_dim)),\n",
    "    tfpl.MultivariateNormalTriL(event_size=latent_dim, activity_regularizer=kl_regularizer)\n",
    "])\n",
    "encoder.summary()"
   ]
  },
  {
   "cell_type": "code",
   "execution_count": 7,
   "metadata": {},
   "outputs": [
    {
     "name": "stdout",
     "output_type": "stream",
     "text": [
      "Model: \"sequential_1\"\n",
      "_________________________________________________________________\n",
      "Layer (type)                 Output Shape              Param #   \n",
      "=================================================================\n",
      "dense_1 (Dense)              (None, 1296)              66096     \n",
      "_________________________________________________________________\n",
      "reshape (Reshape)            (None, 9, 9, 16)          0         \n",
      "_________________________________________________________________\n",
      "up_sampling2d (UpSampling2D) (None, 18, 18, 16)        0         \n",
      "_________________________________________________________________\n",
      "conv2d_4 (Conv2D)            (None, 18, 18, 128)       18560     \n",
      "_________________________________________________________________\n",
      "up_sampling2d_1 (UpSampling2 (None, 36, 36, 128)       0         \n",
      "_________________________________________________________________\n",
      "conv2d_5 (Conv2D)            (None, 36, 36, 128)       147584    \n",
      "_________________________________________________________________\n",
      "conv2d_6 (Conv2D)            (None, 36, 36, 3)         3459      \n",
      "_________________________________________________________________\n",
      "flatten_1 (Flatten)          (None, 3888)              0         \n",
      "_________________________________________________________________\n",
      "independent_bernoulli (Indep multiple                  0         \n",
      "=================================================================\n",
      "Total params: 235,699\n",
      "Trainable params: 235,699\n",
      "Non-trainable params: 0\n",
      "_________________________________________________________________\n"
     ]
    }
   ],
   "source": [
    "decoder = Sequential([\n",
    "    Dense(36*36, activation='relu', input_shape=(latent_dim,)),\n",
    "    Reshape((9,9,16)),\n",
    "    UpSampling2D(size=(2,2)),\n",
    "    Conv2D(filters=128, padding='SAME', kernel_size=(3,3), activation='relu'),\n",
    "    UpSampling2D(size=(2,2)),\n",
    "    Conv2D(filters=128, padding='SAME', kernel_size=(3,3), activation='relu'),\n",
    "    Conv2D(filters=3, padding='SAME', kernel_size=(3,3)),\n",
    "    Flatten(),\n",
    "    tfpl.IndependentBernoulli(event_shape=(36,36,3))\n",
    "])\n",
    "decoder.summary()"
   ]
  },
  {
   "cell_type": "code",
   "execution_count": 8,
   "metadata": {},
   "outputs": [],
   "source": [
    "vae = Model(inputs=encoder.inputs, outputs=decoder(encoder.outputs))"
   ]
  },
  {
   "cell_type": "code",
   "execution_count": null,
   "metadata": {},
   "outputs": [],
   "source": []
  },
  {
   "cell_type": "code",
   "execution_count": null,
   "metadata": {},
   "outputs": [],
   "source": []
  }
 ],
 "metadata": {
  "kernelspec": {
   "display_name": "Python 3",
   "language": "python",
   "name": "python3"
  },
  "language_info": {
   "codemirror_mode": {
    "name": "ipython",
    "version": 3
   },
   "file_extension": ".py",
   "mimetype": "text/x-python",
   "name": "python",
   "nbconvert_exporter": "python",
   "pygments_lexer": "ipython3",
   "version": "3.8.6"
  }
 },
 "nbformat": 4,
 "nbformat_minor": 4
}
