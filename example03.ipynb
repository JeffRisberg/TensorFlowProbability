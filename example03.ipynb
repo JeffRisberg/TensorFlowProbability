{
 "cells": [
  {
   "cell_type": "markdown",
   "metadata": {},
   "source": [
    "## Encoder and Decoder networks"
   ]
  },
  {
   "cell_type": "markdown",
   "metadata": {},
   "source": [
    "## 4. Build the encoder and decoder networks\n",
    "* You should now create the encoder and decoder for the variational autoencoder algorithm.\n",
    "* You should design these networks yourself, subject to the following constraints:\n",
    "   * The encoder and decoder networks should be built using the `Sequential` class.\n",
    "   * The encoder and decoder networks should use probabilistic layers where necessary to represent distributions.\n",
    "   * The prior distribution should be a zero-mean, isotropic Gaussian (identity covariance matrix).\n",
    "   * The encoder network should add the KL divergence loss to the model.\n",
    "* Print the model summary for the encoder and decoder networks."
   ]
  },
  {
   "cell_type": "code",
   "execution_count": 23,
   "metadata": {},
   "outputs": [],
   "source": [
    "import math\n",
    "import numpy as np\n",
    "import matplotlib.pyplot as plt\n",
    "import tensorflow as tf\n",
    "import tensorflow_probability as tfp\n",
    "\n",
    "from tensorflow.keras.models import Sequential, Model\n",
    "from tensorflow.keras.layers import Dense, Flatten, Conv2D, UpSampling2D, BatchNormalization, Reshape\n",
    "\n",
    "tfb = tfp.bijectors\n",
    "tfd = tfp.distributions\n",
    "tfpl = tfp.layers\n",
    "\n",
    "%matplotlib inline"
   ]
  },
  {
   "cell_type": "code",
   "execution_count": 24,
   "metadata": {},
   "outputs": [],
   "source": [
    "latent_dim = 50\n",
    "\n",
    "prior = tfd.MultivariateNormalDiag(loc=tf.zeros(latent_dim))"
   ]
  },
  {
   "cell_type": "code",
   "execution_count": 25,
   "metadata": {},
   "outputs": [],
   "source": [
    "def get_kl_regularizer(prior_distribution):\n",
    "    \"\"\"\n",
    "    This function should create an instance of the KLDivergenceRegularizer \n",
    "    according to the above specification. \n",
    "    The function takes the prior_distribution, which should be used to define \n",
    "    the distribution.\n",
    "    Your function should then return the KLDivergenceRegularizer instance.\n",
    "    \"\"\"\n",
    "    return tfpl.KLDivergenceRegularizer(prior_distribution,\n",
    "                                        weight=1.0,\n",
    "                                        use_exact_kl=False,\n",
    "                                        test_points_fn=lambda q: q.sample(3),\n",
    "                                        test_points_reduce_axis=None) "
   ]
  },
  {
   "cell_type": "code",
   "execution_count": 26,
   "metadata": {},
   "outputs": [],
   "source": [
    "kl_regularizer = get_kl_regularizer(prior)"
   ]
  },
  {
   "cell_type": "code",
   "execution_count": 27,
   "metadata": {},
   "outputs": [],
   "source": [
    "event_shape = (28, 28)\n",
    "\n",
    "encoder = Sequential([\n",
    "    Conv2D(filters=32, padding='SAME', kernel_size=(4,4), strides=(2,2), activation='relu', input_shape=(32,32,3)),\n",
    "    BatchNormalization(),\n",
    "    Conv2D(filters=64, padding='SAME', kernel_size=(4,4), strides=(2,2), activation='relu'),\n",
    "    BatchNormalization(),\n",
    "    Conv2D(filters=128, padding='SAME', kernel_size=(4,4), strides=(2,2), activation='relu'),\n",
    "    BatchNormalization(),\n",
    "    Conv2D(filters=256, padding='SAME', kernel_size=(4,4), strides=(2,2), activation='relu'),\n",
    "    BatchNormalization(),\n",
    "    Flatten(),\n",
    "    Dense(tfpl.MultivariateNormalTriL.params_size(latent_dim)),\n",
    "    tfpl.MultivariateNormalTriL(event_size=latent_dim, activity_regularizer=kl_regularizer)\n",
    "    ])"
   ]
  },
  {
   "cell_type": "code",
   "execution_count": 28,
   "metadata": {},
   "outputs": [],
   "source": [
    "decoder = Sequential([\n",
    "    Dense(4096, activation='relu', input_shape=(latent_dim,)),\n",
    "    Reshape((4,4,256)),\n",
    "    UpSampling2D(size=(2,2)),\n",
    "    Conv2D(filters=128, padding='SAME', kernel_size=(3,3), activation='relu'),\n",
    "    UpSampling2D(size=(2,2)),\n",
    "    Conv2D(filters=64, padding='SAME', kernel_size=(3,3), activation='relu'),\n",
    "    UpSampling2D(size=(2,2)),\n",
    "    Conv2D(filters=32, padding='SAME', kernel_size=(3,3), activation='relu'),\n",
    "    UpSampling2D(size=(2,2)),\n",
    "    Conv2D(filters=128, padding='SAME', kernel_size=(3,3), activation='relu'),\n",
    "    Conv2D(filters=3, padding='SAME', kernel_size=(3,3)),\n",
    "    Flatten(),\n",
    "    tfpl.IndependentBernoulli(event_shape=(64,64,3))\n",
    "])"
   ]
  },
  {
   "cell_type": "code",
   "execution_count": 29,
   "metadata": {},
   "outputs": [
    {
     "name": "stdout",
     "output_type": "stream",
     "text": [
      "Model: \"sequential_4\"\n",
      "_________________________________________________________________\n",
      "Layer (type)                 Output Shape              Param #   \n",
      "=================================================================\n",
      "conv2d_18 (Conv2D)           (None, 16, 16, 32)        1568      \n",
      "_________________________________________________________________\n",
      "batch_normalization_12 (Batc (None, 16, 16, 32)        128       \n",
      "_________________________________________________________________\n",
      "conv2d_19 (Conv2D)           (None, 8, 8, 64)          32832     \n",
      "_________________________________________________________________\n",
      "batch_normalization_13 (Batc (None, 8, 8, 64)          256       \n",
      "_________________________________________________________________\n",
      "conv2d_20 (Conv2D)           (None, 4, 4, 128)         131200    \n",
      "_________________________________________________________________\n",
      "batch_normalization_14 (Batc (None, 4, 4, 128)         512       \n",
      "_________________________________________________________________\n",
      "conv2d_21 (Conv2D)           (None, 2, 2, 256)         524544    \n",
      "_________________________________________________________________\n",
      "batch_normalization_15 (Batc (None, 2, 2, 256)         1024      \n",
      "_________________________________________________________________\n",
      "flatten_6 (Flatten)          (None, 1024)              0         \n",
      "_________________________________________________________________\n",
      "dense_5 (Dense)              (None, 1325)              1358125   \n",
      "_________________________________________________________________\n",
      "multivariate_normal_tri_l_3  multiple                  0         \n",
      "=================================================================\n",
      "Total params: 2,050,189\n",
      "Trainable params: 2,049,229\n",
      "Non-trainable params: 960\n",
      "_________________________________________________________________\n"
     ]
    }
   ],
   "source": [
    "encoder.summary()"
   ]
  },
  {
   "cell_type": "code",
   "execution_count": 30,
   "metadata": {},
   "outputs": [
    {
     "name": "stdout",
     "output_type": "stream",
     "text": [
      "Model: \"sequential_5\"\n",
      "_________________________________________________________________\n",
      "Layer (type)                 Output Shape              Param #   \n",
      "=================================================================\n",
      "dense_6 (Dense)              (None, 4096)              208896    \n",
      "_________________________________________________________________\n",
      "reshape_2 (Reshape)          (None, 4, 4, 256)         0         \n",
      "_________________________________________________________________\n",
      "up_sampling2d_4 (UpSampling2 (None, 8, 8, 256)         0         \n",
      "_________________________________________________________________\n",
      "conv2d_22 (Conv2D)           (None, 8, 8, 128)         295040    \n",
      "_________________________________________________________________\n",
      "up_sampling2d_5 (UpSampling2 (None, 16, 16, 128)       0         \n",
      "_________________________________________________________________\n",
      "conv2d_23 (Conv2D)           (None, 16, 16, 64)        73792     \n",
      "_________________________________________________________________\n",
      "up_sampling2d_6 (UpSampling2 (None, 32, 32, 64)        0         \n",
      "_________________________________________________________________\n",
      "conv2d_24 (Conv2D)           (None, 32, 32, 32)        18464     \n",
      "_________________________________________________________________\n",
      "up_sampling2d_7 (UpSampling2 (None, 64, 64, 32)        0         \n",
      "_________________________________________________________________\n",
      "conv2d_25 (Conv2D)           (None, 64, 64, 128)       36992     \n",
      "_________________________________________________________________\n",
      "conv2d_26 (Conv2D)           (None, 64, 64, 3)         3459      \n",
      "_________________________________________________________________\n",
      "flatten_7 (Flatten)          (None, 12288)             0         \n",
      "_________________________________________________________________\n",
      "independent_bernoulli_1 (Ind multiple                  0         \n",
      "=================================================================\n",
      "Total params: 636,643\n",
      "Trainable params: 636,643\n",
      "Non-trainable params: 0\n",
      "_________________________________________________________________\n"
     ]
    }
   ],
   "source": [
    "decoder.summary()"
   ]
  },
  {
   "cell_type": "code",
   "execution_count": 31,
   "metadata": {},
   "outputs": [],
   "source": [
    "vae = Model(inputs=encoder.inputs, outputs=decoder(encoder.outputs))"
   ]
  },
  {
   "cell_type": "code",
   "execution_count": null,
   "metadata": {},
   "outputs": [],
   "source": []
  },
  {
   "cell_type": "code",
   "execution_count": null,
   "metadata": {},
   "outputs": [],
   "source": []
  }
 ],
 "metadata": {
  "kernelspec": {
   "display_name": "Python 3",
   "language": "python",
   "name": "python3"
  },
  "language_info": {
   "codemirror_mode": {
    "name": "ipython",
    "version": 3
   },
   "file_extension": ".py",
   "mimetype": "text/x-python",
   "name": "python",
   "nbconvert_exporter": "python",
   "pygments_lexer": "ipython3",
   "version": "3.8.6"
  }
 },
 "nbformat": 4,
 "nbformat_minor": 4
}
