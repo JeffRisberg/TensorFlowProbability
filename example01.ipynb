{
 "cells": [
  {
   "cell_type": "markdown",
   "metadata": {},
   "source": [
    "## Bijector Example\n",
    "### from https://romainlhardy.medium.com/building-custom-bijectors-with-tensorflow-probability-22241cb6a691"
   ]
  },
  {
   "cell_type": "code",
   "execution_count": 12,
   "metadata": {},
   "outputs": [],
   "source": [
    "import numpy as np\n",
    "import matplotlib.pyplot as plt\n",
    "import tensorflow as tf\n",
    "import tensorflow_probability as tfp\n",
    "\n",
    "tfb = tfp.bijectors\n",
    "tfd = tfp.distributions\n",
    "\n",
    "scale = tf.random.normal((2,))\n",
    "shift = tf.random.normal((2,))\n",
    "theta = tf.random.uniform((), minval=0., maxval=2. * np.pi)"
   ]
  },
  {
   "cell_type": "code",
   "execution_count": 13,
   "metadata": {},
   "outputs": [],
   "source": [
    "class Rotation2D(tfb.Bijector):\n",
    "  def __init__(self, theta, validate_args=False, name=\"rotation_2d\"):\n",
    "    super(Rotation2D, self).__init__(\n",
    "      validate_args=validate_args,\n",
    "      forward_min_event_ndims=1,\n",
    "      inverse_min_event_ndims=1,\n",
    "      name=name,\n",
    "      is_constant_jacobian=True\n",
    "    )\n",
    "    \n",
    "    self.cos_theta = tf.math.cos(theta)\n",
    "    self.sin_theta = tf.math.sin(theta)\n",
    "    self.event_ndim = 1\n",
    "  \n",
    "  def _forward(self, x):\n",
    "    batch_ndim = len(x.shape) - self.event_ndim\n",
    "    x0 = tf.expand_dims(x[..., 0], batch_ndim)\n",
    "    x1 = tf.expand_dims(x[..., 1], batch_ndim)\n",
    "    y0 = self.cos_theta * x0 - self.sin_theta * x1\n",
    "    y1 = self.sin_theta * x0 + self.cos_theta * x1\n",
    "    return tf.concat((y0, y1), axis=-1)\n",
    "\n",
    "  def _inverse(self, y):\n",
    "    batch_ndim = len(y.shape) - self.event_ndim\n",
    "    y0 = tf.expand_dims(y[..., 0], batch_ndim)\n",
    "    y1 = tf.expand_dims(y[..., 1], batch_ndim)\n",
    "    x0 = self.cos_theta * y0 + self.sin_theta * y1\n",
    "    x1 = -self.sin_theta * y0 + self.cos_theta * y1\n",
    "    return tf.concat((x0, x1), axis=-1)\n",
    "\n",
    "  def _forward_log_det_jacobian(self, x):\n",
    "    return tf.constant(0., x.dtype)"
   ]
  },
  {
   "cell_type": "code",
   "execution_count": 15,
   "metadata": {},
   "outputs": [],
   "source": [
    "# Define Rotation Matrix and create Bijector\n",
    "cos_theta = tf.math.cos(theta)\n",
    "sin_theta = tf.math.sin(theta)\n",
    "matrix = [[cos_theta, -sin_theta], [sin_theta, cos_theta]]\n",
    "\n",
    "RotationBijector = tfb.ScaleMatvecLinearOperator(tf.linalg.LinearOperatorFullMatrix(matrix))"
   ]
  },
  {
   "cell_type": "code",
   "execution_count": 16,
   "metadata": {},
   "outputs": [
    {
     "name": "stdout",
     "output_type": "stream",
     "text": [
      "tf.Tensor([ 0.713397  -1.0785053], shape=(2,), dtype=float32)\n",
      "tf.Tensor([1.0007638  0.81889004], shape=(2,), dtype=float32)\n"
     ]
    }
   ],
   "source": [
    "# Test the RotationBijector \n",
    "x = tf.random.normal((2,))\n",
    "print(theta)\n",
    "print(x)\n",
    "print(RotationBijector.forward(x))          "
   ]
  },
  {
   "cell_type": "code",
   "execution_count": 56,
   "metadata": {},
   "outputs": [],
   "source": [
    "# Define Bijector for f3(z) = (z1, z2 + 2 * z1 * z1)\n",
    "class F3Bijector(tfb.Bijector):\n",
    "  def __init__(self, validate_args=False, name=\"f3_bijector\"):\n",
    "    super(F3Bijector, self).__init__(\n",
    "      validate_args=validate_args,\n",
    "      forward_min_event_ndims=0,\n",
    "      inverse_min_event_ndims=0,\n",
    "      name=name,\n",
    "      is_constant_jacobian=False\n",
    "    )\n",
    "    \n",
    "    self.event_ndim = 1\n",
    "  \n",
    "  def _forward(self, x):\n",
    "    batch_ndim = len(x.shape) - self.event_ndim\n",
    "    x1 = tf.expand_dims(x[..., 0], batch_ndim)\n",
    "    x2 = tf.expand_dims(x[..., 1], batch_ndim)\n",
    "    return tf.concat((x1, x2 + 2 * x1 * x1), axis=-1)\n",
    "\n",
    "  def _inverse(self, y):\n",
    "    batch_ndim = len(y.shape) - self.event_ndim\n",
    "    y1 = tf.expand_dims(y[..., 0], batch_ndim)\n",
    "    y2 = tf.expand_dims(y[..., 1], batch_ndim)\n",
    "    return tf.concat((y1, y2 - 2 * y1 * y1), axis=-1)\n",
    "\n",
    "  def _inverse_log_det_jacobian(self, y):\n",
    "    # we evaluate det [[1.0, 0.0], [4y1, 1.0]] = 1\n",
    "    # so log det is zero\n",
    "    batch_ndim = len(y.shape) - self.event_ndim\n",
    "    y1 = tf.expand_dims(y[..., 0], batch_ndim)\n",
    "    return tf.zeros(shape=y1.shape)\n"
   ]
  },
  {
   "cell_type": "code",
   "execution_count": 57,
   "metadata": {},
   "outputs": [
    {
     "name": "stdout",
     "output_type": "stream",
     "text": [
      "tf.Tensor([ 0.48355126 -1.1988475 ], shape=(2,), dtype=float32)\n",
      "tf.Tensor([ 0.48355126 -0.7312039 ], shape=(2,), dtype=float32)\n",
      "tf.Tensor([ 0.48355126 -1.1988475 ], shape=(2,), dtype=float32)\n",
      "tf.Tensor([0.], shape=(1,), dtype=float32)\n"
     ]
    }
   ],
   "source": [
    "# Test the F3Bijector \n",
    "f3Bijector = F3Bijector()\n",
    "\n",
    "x = tf.random.normal((2,))\n",
    "print(x)\n",
    "y = f3Bijector.forward(x)\n",
    "print(y) \n",
    "print(f3Bijector.inverse(y))\n",
    "print(f3Bijector.inverse_log_det_jacobian(x, event_ndims=0))"
   ]
  },
  {
   "cell_type": "code",
   "execution_count": 58,
   "metadata": {},
   "outputs": [],
   "source": [
    "bijectors = [\n",
    "  tfb.Scale(log_scale=scale),\n",
    "  tfb.Shift(shift=shift),\n",
    "  f3Bijector,\n",
    "  ##Rotation2D(theta),\n",
    "  RotationBijector, \n",
    "  tfb.Log()\n",
    "]\n",
    "\n",
    "full_bijector = tfb.Chain(list(reversed(bijectors)))\n",
    "\n",
    "base_distribution = tfd.MultivariateNormalDiag(tf.zeros((2,)), tf.ones((2,)))\n",
    "\n",
    "transformed_distribution = tfd.TransformedDistribution(\n",
    "    base_distribution,\n",
    "    full_bijector\n",
    ")"
   ]
  },
  {
   "cell_type": "code",
   "execution_count": 59,
   "metadata": {},
   "outputs": [
    {
     "name": "stdout",
     "output_type": "stream",
     "text": [
      "WARNING:tensorflow:Using (possibly slow) default implementation of determinant.  Requires conversion to a dense matrix and O(N^3) operations.\n"
     ]
    },
    {
     "data": {
      "image/png": "[encoded data removed]",
      "text/plain": [
       "<Figure size 720x360 with 2 Axes>"
      ]
     },
     "metadata": {
      "needs_background": "light"
     },
     "output_type": "display_data"
    }
   ],
   "source": [
    "X, Y = np.meshgrid(np.linspace(-3, 3, 100), np.linspace(-3, 3, 100))\n",
    "inputs = np.transpose(np.stack((X, Y)), [2, 1, 0])\n",
    "Z_0 = base_distribution.prob(inputs).numpy()\n",
    "Z_1 = transformed_distribution.prob(inputs).numpy()\n",
    "\n",
    "fig, ax = plt.subplots(1, 2, figsize=(10, 5))\n",
    "ax[0].contourf(X, Y, Z_0, cmap=\"hot\", levels=100)\n",
    "ax[0].axis(\"off\")\n",
    "ax[1].contourf(X, Y, Z_1, cmap=\"hot\", levels=100)\n",
    "ax[1].axis(\"off\")\n",
    "plt.tight_layout()\n",
    "plt.show()"
   ]
  },
  {
   "cell_type": "code",
   "execution_count": null,
   "metadata": {},
   "outputs": [],
   "source": []
  },
  {
   "cell_type": "code",
   "execution_count": null,
   "metadata": {},
   "outputs": [],
   "source": []
  }
 ],
 "metadata": {
  "kernelspec": {
   "display_name": "Python 3",
   "language": "python",
   "name": "python3"
  },
  "language_info": {
   "codemirror_mode": {
    "name": "ipython",
    "version": 3
   },
   "file_extension": ".py",
   "mimetype": "text/x-python",
   "name": "python",
   "nbconvert_exporter": "python",
   "pygments_lexer": "ipython3",
   "version": "3.8.6"
  }
 },
 "nbformat": 4,
 "nbformat_minor": 1
}
